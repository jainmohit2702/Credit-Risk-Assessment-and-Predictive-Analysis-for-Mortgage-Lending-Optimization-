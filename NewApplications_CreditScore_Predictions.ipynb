{
 "cells": [
  {
   "cell_type": "markdown",
   "metadata": {
    "id": "v6M3JjqF23xB"
   },
   "source": [
    "# Credit Score Prediction for New Loan Applications\n",
    "\n",
    "This Jupyter notebook utilizes a pre-trained Credit Scoring model to predict the credit scores of new loan applications. The model was previously developed and saved in the file `f1_Classifier_CreditScoring`, while the normalization coefficients used for scaling the data were saved in `f2_Normalisation_CreditScoring`. "
   ]
  },
  {
   "cell_type": "code",
   "execution_count": 1,
   "metadata": {
    "executionInfo": {
     "elapsed": 500,
     "status": "ok",
     "timestamp": 1638208772038,
     "user": {
      "displayName": "SKILLCATE",
      "photoUrl": "https://lh3.googleusercontent.com/a-/AOh14GhT5e7MnDmh2dcfNhKDOV8oRoeRJVinedzmD2Su=s64",
      "userId": "11062674699417926870"
     },
     "user_tz": -330
    },
    "id": "Z0zpJk7CmHiH",
    "tags": []
   },
   "outputs": [],
   "source": [
    "import pandas as pd\n",
    "import numpy as np\n",
    "import joblib\n",
    "from sklearn.model_selection import train_test_split\n",
    "from sklearn.preprocessing import StandardScaler\n",
    "from sklearn.metrics import classification_report, confusion_matrix, accuracy_score\n",
    "from sklearn.linear_model import LogisticRegression"
   ]
  },
  {
   "cell_type": "markdown",
   "metadata": {
    "id": "d3KLBB_ajJPf"
   },
   "source": [
    "### Importing Dataset"
   ]
  },
  {
   "cell_type": "code",
   "execution_count": 2,
   "metadata": {
    "colab": {
     "base_uri": "https://localhost:8080/"
    },
    "executionInfo": {
     "elapsed": 21,
     "status": "ok",
     "timestamp": 1638208772550,
     "user": {
      "displayName": "SKILLCATE",
      "photoUrl": "https://lh3.googleusercontent.com/a-/AOh14GhT5e7MnDmh2dcfNhKDOV8oRoeRJVinedzmD2Su=s64",
      "userId": "11062674699417926870"
     },
     "user_tz": -330
    },
    "id": "Jt3V_IVhj16o",
    "outputId": "c1217568-94a5-4ac7-e943-fbae32da41f1",
    "tags": []
   },
   "outputs": [
    {
     "data": {
      "text/html": [
       "<div>\n",
       "<style scoped>\n",
       "    .dataframe tbody tr th:only-of-type {\n",
       "        vertical-align: middle;\n",
       "    }\n",
       "\n",
       "    .dataframe tbody tr th {\n",
       "        vertical-align: top;\n",
       "    }\n",
       "\n",
       "    .dataframe thead th {\n",
       "        text-align: right;\n",
       "    }\n",
       "</style>\n",
       "<table border=\"1\" class=\"dataframe\">\n",
       "  <thead>\n",
       "    <tr style=\"text-align: right;\">\n",
       "      <th></th>\n",
       "      <th>ID</th>\n",
       "      <th>DerogCnt</th>\n",
       "      <th>CollectCnt</th>\n",
       "      <th>BanruptcyInd</th>\n",
       "      <th>InqCnt06</th>\n",
       "      <th>InqTimeLast</th>\n",
       "      <th>InqFinanceCnt24</th>\n",
       "      <th>TLTimeFirst</th>\n",
       "      <th>TLTimeLast</th>\n",
       "      <th>TLCnt03</th>\n",
       "      <th>...</th>\n",
       "      <th>TL50UtilCnt</th>\n",
       "      <th>TLBalHCPct</th>\n",
       "      <th>TLSatPct</th>\n",
       "      <th>TLDel3060Cnt24</th>\n",
       "      <th>TLDel90Cnt24</th>\n",
       "      <th>TLDel60CntAll</th>\n",
       "      <th>TLOpenPct</th>\n",
       "      <th>TLBadDerogCnt</th>\n",
       "      <th>TLDel60Cnt24</th>\n",
       "      <th>TLOpen24Pct</th>\n",
       "    </tr>\n",
       "  </thead>\n",
       "  <tbody>\n",
       "    <tr>\n",
       "      <th>0</th>\n",
       "      <td>7140</td>\n",
       "      <td>3</td>\n",
       "      <td>2</td>\n",
       "      <td>0</td>\n",
       "      <td>0</td>\n",
       "      <td>11.0</td>\n",
       "      <td>0</td>\n",
       "      <td>90</td>\n",
       "      <td>9</td>\n",
       "      <td>0</td>\n",
       "      <td>...</td>\n",
       "      <td>2.0</td>\n",
       "      <td>0.8645</td>\n",
       "      <td>0.1667</td>\n",
       "      <td>2</td>\n",
       "      <td>2</td>\n",
       "      <td>4</td>\n",
       "      <td>0.2500</td>\n",
       "      <td>3</td>\n",
       "      <td>3</td>\n",
       "      <td>1.0000</td>\n",
       "    </tr>\n",
       "    <tr>\n",
       "      <th>1</th>\n",
       "      <td>7163</td>\n",
       "      <td>4</td>\n",
       "      <td>2</td>\n",
       "      <td>1</td>\n",
       "      <td>3</td>\n",
       "      <td>3.0</td>\n",
       "      <td>2</td>\n",
       "      <td>221</td>\n",
       "      <td>3</td>\n",
       "      <td>1</td>\n",
       "      <td>...</td>\n",
       "      <td>2.0</td>\n",
       "      <td>0.6774</td>\n",
       "      <td>0.3333</td>\n",
       "      <td>0</td>\n",
       "      <td>2</td>\n",
       "      <td>5</td>\n",
       "      <td>0.2000</td>\n",
       "      <td>3</td>\n",
       "      <td>2</td>\n",
       "      <td>0.3333</td>\n",
       "    </tr>\n",
       "    <tr>\n",
       "      <th>2</th>\n",
       "      <td>122900</td>\n",
       "      <td>0</td>\n",
       "      <td>0</td>\n",
       "      <td>0</td>\n",
       "      <td>11</td>\n",
       "      <td>1.0</td>\n",
       "      <td>13</td>\n",
       "      <td>152</td>\n",
       "      <td>2</td>\n",
       "      <td>2</td>\n",
       "      <td>...</td>\n",
       "      <td>5.0</td>\n",
       "      <td>0.8371</td>\n",
       "      <td>0.5758</td>\n",
       "      <td>1</td>\n",
       "      <td>0</td>\n",
       "      <td>0</td>\n",
       "      <td>0.2121</td>\n",
       "      <td>0</td>\n",
       "      <td>0</td>\n",
       "      <td>1.8571</td>\n",
       "    </tr>\n",
       "    <tr>\n",
       "      <th>3</th>\n",
       "      <td>7226</td>\n",
       "      <td>1</td>\n",
       "      <td>1</td>\n",
       "      <td>0</td>\n",
       "      <td>2</td>\n",
       "      <td>1.0</td>\n",
       "      <td>4</td>\n",
       "      <td>206</td>\n",
       "      <td>21</td>\n",
       "      <td>0</td>\n",
       "      <td>...</td>\n",
       "      <td>NaN</td>\n",
       "      <td>0.0000</td>\n",
       "      <td>0.2500</td>\n",
       "      <td>0</td>\n",
       "      <td>0</td>\n",
       "      <td>3</td>\n",
       "      <td>0.1250</td>\n",
       "      <td>1</td>\n",
       "      <td>0</td>\n",
       "      <td>1.0000</td>\n",
       "    </tr>\n",
       "    <tr>\n",
       "      <th>4</th>\n",
       "      <td>7251</td>\n",
       "      <td>1</td>\n",
       "      <td>1</td>\n",
       "      <td>0</td>\n",
       "      <td>4</td>\n",
       "      <td>1.0</td>\n",
       "      <td>5</td>\n",
       "      <td>152</td>\n",
       "      <td>11</td>\n",
       "      <td>0</td>\n",
       "      <td>...</td>\n",
       "      <td>2.0</td>\n",
       "      <td>0.8892</td>\n",
       "      <td>0.2500</td>\n",
       "      <td>2</td>\n",
       "      <td>1</td>\n",
       "      <td>2</td>\n",
       "      <td>0.7500</td>\n",
       "      <td>1</td>\n",
       "      <td>2</td>\n",
       "      <td>0.3333</td>\n",
       "    </tr>\n",
       "  </tbody>\n",
       "</table>\n",
       "<p>5 rows × 29 columns</p>\n",
       "</div>"
      ],
      "text/plain": [
       "       ID  DerogCnt  CollectCnt  BanruptcyInd  InqCnt06  InqTimeLast  \\\n",
       "0    7140         3           2             0         0         11.0   \n",
       "1    7163         4           2             1         3          3.0   \n",
       "2  122900         0           0             0        11          1.0   \n",
       "3    7226         1           1             0         2          1.0   \n",
       "4    7251         1           1             0         4          1.0   \n",
       "\n",
       "   InqFinanceCnt24  TLTimeFirst  TLTimeLast  TLCnt03  ...  TL50UtilCnt  \\\n",
       "0                0           90           9        0  ...          2.0   \n",
       "1                2          221           3        1  ...          2.0   \n",
       "2               13          152           2        2  ...          5.0   \n",
       "3                4          206          21        0  ...          NaN   \n",
       "4                5          152          11        0  ...          2.0   \n",
       "\n",
       "   TLBalHCPct  TLSatPct  TLDel3060Cnt24  TLDel90Cnt24  TLDel60CntAll  \\\n",
       "0      0.8645    0.1667               2             2              4   \n",
       "1      0.6774    0.3333               0             2              5   \n",
       "2      0.8371    0.5758               1             0              0   \n",
       "3      0.0000    0.2500               0             0              3   \n",
       "4      0.8892    0.2500               2             1              2   \n",
       "\n",
       "   TLOpenPct  TLBadDerogCnt  TLDel60Cnt24  TLOpen24Pct  \n",
       "0     0.2500              3             3       1.0000  \n",
       "1     0.2000              3             2       0.3333  \n",
       "2     0.2121              0             0       1.8571  \n",
       "3     0.1250              1             0       1.0000  \n",
       "4     0.7500              1             2       0.3333  \n",
       "\n",
       "[5 rows x 29 columns]"
      ]
     },
     "execution_count": 2,
     "metadata": {},
     "output_type": "execute_result"
    }
   ],
   "source": [
    "df = pd.read_excel(\"e_NewApplications_CreditScore_Needed.xlsx\")\n",
    "df.head()"
   ]
  },
  {
   "cell_type": "code",
   "execution_count": 3,
   "metadata": {
    "colab": {
     "base_uri": "https://localhost:8080/"
    },
    "executionInfo": {
     "elapsed": 14,
     "status": "ok",
     "timestamp": 1638208772551,
     "user": {
      "displayName": "SKILLCATE",
      "photoUrl": "https://lh3.googleusercontent.com/a-/AOh14GhT5e7MnDmh2dcfNhKDOV8oRoeRJVinedzmD2Su=s64",
      "userId": "11062674699417926870"
     },
     "user_tz": -330
    },
    "id": "a5BrHGMEjyL5",
    "outputId": "fa360d4a-377d-46d9-9fc3-0391e89bcc30",
    "tags": []
   },
   "outputs": [
    {
     "data": {
      "text/plain": [
       "(30, 29)"
      ]
     },
     "execution_count": 3,
     "metadata": {},
     "output_type": "execute_result"
    }
   ],
   "source": [
    "df.shape"
   ]
  },
  {
   "cell_type": "markdown",
   "metadata": {
    "id": "BKEq_6x1mYTL"
   },
   "source": [
    "### Data Preparation"
   ]
  },
  {
   "cell_type": "code",
   "execution_count": 4,
   "metadata": {
    "colab": {
     "base_uri": "https://localhost:8080/"
    },
    "executionInfo": {
     "elapsed": 8,
     "status": "ok",
     "timestamp": 1638208772552,
     "user": {
      "displayName": "SKILLCATE",
      "photoUrl": "https://lh3.googleusercontent.com/a-/AOh14GhT5e7MnDmh2dcfNhKDOV8oRoeRJVinedzmD2Su=s64",
      "userId": "11062674699417926870"
     },
     "user_tz": -330
    },
    "id": "kOEVc6QXmuib",
    "outputId": "b7b668f5-8987-4e22-9b33-a8f5fc5aeaa2",
    "tags": []
   },
   "outputs": [
    {
     "data": {
      "text/plain": [
       "(30, 28)"
      ]
     },
     "execution_count": 4,
     "metadata": {},
     "output_type": "execute_result"
    }
   ],
   "source": [
    "# Drop the 'ID' column\n",
    "df = df.drop('ID', axis=1)\n",
    "df.shape"
   ]
  },
  {
   "cell_type": "code",
   "execution_count": 5,
   "metadata": {
    "colab": {
     "base_uri": "https://localhost:8080/"
    },
    "executionInfo": {
     "elapsed": 6,
     "status": "ok",
     "timestamp": 1638208772552,
     "user": {
      "displayName": "SKILLCATE",
      "photoUrl": "https://lh3.googleusercontent.com/a-/AOh14GhT5e7MnDmh2dcfNhKDOV8oRoeRJVinedzmD2Su=s64",
      "userId": "11062674699417926870"
     },
     "user_tz": -330
    },
    "id": "BWa-g8lXpUVX",
    "outputId": "6adddfcc-2442-49dc-8fed-4d91996699af",
    "tags": []
   },
   "outputs": [
    {
     "data": {
      "text/plain": [
       "DerogCnt           0\n",
       "CollectCnt         0\n",
       "BanruptcyInd       0\n",
       "InqCnt06           0\n",
       "InqTimeLast        3\n",
       "InqFinanceCnt24    0\n",
       "TLTimeFirst        0\n",
       "TLTimeLast         0\n",
       "TLCnt03            0\n",
       "TLCnt12            0\n",
       "TLCnt24            0\n",
       "TLCnt              0\n",
       "TLSum              0\n",
       "TLMaxSum           0\n",
       "TLSatCnt           0\n",
       "TLDel60Cnt         0\n",
       "TLBadCnt24         0\n",
       "TL75UtilCnt        1\n",
       "TL50UtilCnt        1\n",
       "TLBalHCPct         0\n",
       "TLSatPct           0\n",
       "TLDel3060Cnt24     0\n",
       "TLDel90Cnt24       0\n",
       "TLDel60CntAll      0\n",
       "TLOpenPct          0\n",
       "TLBadDerogCnt      0\n",
       "TLDel60Cnt24       0\n",
       "TLOpen24Pct        0\n",
       "dtype: int64"
      ]
     },
     "execution_count": 5,
     "metadata": {},
     "output_type": "execute_result"
    }
   ],
   "source": [
    "# Find missing values in the dataset\n",
    "df.isna().sum()"
   ]
  },
  {
   "cell_type": "code",
   "execution_count": 6,
   "metadata": {
    "executionInfo": {
     "elapsed": 637,
     "status": "ok",
     "timestamp": 1638208773184,
     "user": {
      "displayName": "SKILLCATE",
      "photoUrl": "https://lh3.googleusercontent.com/a-/AOh14GhT5e7MnDmh2dcfNhKDOV8oRoeRJVinedzmD2Su=s64",
      "userId": "11062674699417926870"
     },
     "user_tz": -330
    },
    "id": "iwg__6smjkb4",
    "tags": []
   },
   "outputs": [],
   "source": [
    "# Fill missing values with the mean of each column which preserves the overall distribution of the data,\n",
    "# and doesn't introduce bias, which is especially important for maintaining the integrity of the dataset.\n",
    "df = df.fillna(df.mean())"
   ]
  },
  {
   "cell_type": "code",
   "execution_count": 7,
   "metadata": {
    "colab": {
     "base_uri": "https://localhost:8080/"
    },
    "executionInfo": {
     "elapsed": 18,
     "status": "ok",
     "timestamp": 1638208773185,
     "user": {
      "displayName": "SKILLCATE",
      "photoUrl": "https://lh3.googleusercontent.com/a-/AOh14GhT5e7MnDmh2dcfNhKDOV8oRoeRJVinedzmD2Su=s64",
      "userId": "11062674699417926870"
     },
     "user_tz": -330
    },
    "id": "Js3lP_KAm5-q",
    "outputId": "b7993a37-3099-49a6-f870-1597850cee3e",
    "tags": []
   },
   "outputs": [
    {
     "data": {
      "text/plain": [
       "DerogCnt           0\n",
       "CollectCnt         0\n",
       "BanruptcyInd       0\n",
       "InqCnt06           0\n",
       "InqTimeLast        0\n",
       "InqFinanceCnt24    0\n",
       "TLTimeFirst        0\n",
       "TLTimeLast         0\n",
       "TLCnt03            0\n",
       "TLCnt12            0\n",
       "TLCnt24            0\n",
       "TLCnt              0\n",
       "TLSum              0\n",
       "TLMaxSum           0\n",
       "TLSatCnt           0\n",
       "TLDel60Cnt         0\n",
       "TLBadCnt24         0\n",
       "TL75UtilCnt        0\n",
       "TL50UtilCnt        0\n",
       "TLBalHCPct         0\n",
       "TLSatPct           0\n",
       "TLDel3060Cnt24     0\n",
       "TLDel90Cnt24       0\n",
       "TLDel60CntAll      0\n",
       "TLOpenPct          0\n",
       "TLBadDerogCnt      0\n",
       "TLDel60Cnt24       0\n",
       "TLOpen24Pct        0\n",
       "dtype: int64"
      ]
     },
     "execution_count": 7,
     "metadata": {},
     "output_type": "execute_result"
    }
   ],
   "source": [
    "# Verify that there are no missing values left\n",
    "df.isna().sum()"
   ]
  },
  {
   "cell_type": "markdown",
   "metadata": {
    "id": "3Ib6drIfoGym"
   },
   "source": [
    "### Train Test Split"
   ]
  },
  {
   "cell_type": "code",
   "execution_count": 8,
   "metadata": {
    "tags": []
   },
   "outputs": [],
   "source": [
    "sc = joblib.load('f2_Normalisation_CreditScoring.joblib')\n",
    "\n",
    "# Apply the normalization to the new dataset\n",
    "X_fresh = sc.transform(df.values)"
   ]
  },
  {
   "cell_type": "markdown",
   "metadata": {
    "id": "07xCSknToWAs"
   },
   "source": [
    "### Risk Model building"
   ]
  },
  {
   "cell_type": "code",
   "execution_count": 9,
   "metadata": {
    "executionInfo": {
     "elapsed": 9,
     "status": "ok",
     "timestamp": 1638208773186,
     "user": {
      "displayName": "SKILLCATE",
      "photoUrl": "https://lh3.googleusercontent.com/a-/AOh14GhT5e7MnDmh2dcfNhKDOV8oRoeRJVinedzmD2Su=s64",
      "userId": "11062674699417926870"
     },
     "user_tz": -330
    },
    "id": "AzhmlRiuw3ne"
   },
   "outputs": [],
   "source": [
    "# Load the trained classifier from the saved file\n",
    "classifier = joblib.load('f1_Classifier_CreditScoring')"
   ]
  },
  {
   "cell_type": "code",
   "execution_count": 10,
   "metadata": {
    "executionInfo": {
     "elapsed": 9,
     "status": "ok",
     "timestamp": 1638208773186,
     "user": {
      "displayName": "SKILLCATE",
      "photoUrl": "https://lh3.googleusercontent.com/a-/AOh14GhT5e7MnDmh2dcfNhKDOV8oRoeRJVinedzmD2Su=s64",
      "userId": "11062674699417926870"
     },
     "user_tz": -330
    },
    "id": "TGTPbyy_oR8t"
   },
   "outputs": [],
   "source": [
    "# Generate predictions for the new loan applications\n",
    "y_fresh = classifier.predict(X_fresh)"
   ]
  },
  {
   "cell_type": "markdown",
   "metadata": {
    "id": "OZpWU4xApREd"
   },
   "source": [
    "### Writing output file"
   ]
  },
  {
   "cell_type": "code",
   "execution_count": 11,
   "metadata": {
    "colab": {
     "base_uri": "https://localhost:8080/"
    },
    "executionInfo": {
     "elapsed": 9,
     "status": "ok",
     "timestamp": 1638208773186,
     "user": {
      "displayName": "SKILLCATE",
      "photoUrl": "https://lh3.googleusercontent.com/a-/AOh14GhT5e7MnDmh2dcfNhKDOV8oRoeRJVinedzmD2Su=s64",
      "userId": "11062674699417926870"
     },
     "user_tz": -330
    },
    "id": "21MQHzgDx676",
    "outputId": "6419158b-af78-4267-bd81-51c435d783e0"
   },
   "outputs": [
    {
     "data": {
      "text/plain": [
       "array([[0.08, 0.92],\n",
       "       [0.13, 0.87],\n",
       "       [0.89, 0.11],\n",
       "       [0.16, 0.84],\n",
       "       [0.06, 0.94],\n",
       "       [0.26, 0.74],\n",
       "       [0.15, 0.85],\n",
       "       [0.13, 0.87],\n",
       "       [0.12, 0.88],\n",
       "       [0.28, 0.72],\n",
       "       [0.98, 0.02],\n",
       "       [0.51, 0.49],\n",
       "       [0.87, 0.13],\n",
       "       [0.84, 0.16],\n",
       "       [1.  , 0.  ],\n",
       "       [0.41, 0.59],\n",
       "       [0.91, 0.09],\n",
       "       [0.51, 0.49],\n",
       "       [0.96, 0.04],\n",
       "       [0.78, 0.22],\n",
       "       [1.  , 0.  ],\n",
       "       [0.97, 0.03],\n",
       "       [0.96, 0.04],\n",
       "       [0.83, 0.17],\n",
       "       [1.  , 0.  ],\n",
       "       [0.37, 0.63],\n",
       "       [0.86, 0.14],\n",
       "       [0.89, 0.11],\n",
       "       [0.87, 0.13],\n",
       "       [0.93, 0.07]])"
      ]
     },
     "execution_count": 11,
     "metadata": {},
     "output_type": "execute_result"
    }
   ],
   "source": [
    "# Predict the probabilities for each class (0 and 1) for the new loan applications\n",
    "predictions = classifier.predict_proba(X_fresh)\n",
    "predictions"
   ]
  },
  {
   "cell_type": "code",
   "execution_count": 12,
   "metadata": {
    "colab": {
     "base_uri": "https://localhost:8080/",
     "height": 400
    },
    "executionInfo": {
     "elapsed": 7,
     "status": "ok",
     "timestamp": 1638208773186,
     "user": {
      "displayName": "SKILLCATE",
      "photoUrl": "https://lh3.googleusercontent.com/a-/AOh14GhT5e7MnDmh2dcfNhKDOV8oRoeRJVinedzmD2Su=s64",
      "userId": "11062674699417926870"
     },
     "user_tz": -330
    },
    "id": "QZZCWhsipijJ",
    "outputId": "2757300a-dba0-4e3e-e127-f5d6e41d01f4"
   },
   "outputs": [],
   "source": [
    "# Convert the predictions and original features into DataFrames\n",
    "df_prediction_prob = pd.DataFrame(predictions, columns=['prob_0', 'prob_1'])\n",
    "df_test_dataset = pd.DataFrame(X_fresh, columns=df.columns)\n",
    "df_prediction_target = pd.DataFrame(y_fresh, columns=['Predicted Outcome'])"
   ]
  },
  {
   "cell_type": "code",
   "execution_count": 13,
   "metadata": {},
   "outputs": [],
   "source": [
    "dfx = pd.concat([df_prediction_target, df_prediction_prob, df_test_dataset], axis=1)\n",
    "dfx.to_csv(\"f4_NewApplications_CreditScore_Predictions.csv\", sep=',', encoding='UTF-8', index=False)"
   ]
  },
  {
   "cell_type": "code",
   "execution_count": 14,
   "metadata": {
    "tags": []
   },
   "outputs": [
    {
     "data": {
      "text/html": [
       "<div>\n",
       "<style scoped>\n",
       "    .dataframe tbody tr th:only-of-type {\n",
       "        vertical-align: middle;\n",
       "    }\n",
       "\n",
       "    .dataframe tbody tr th {\n",
       "        vertical-align: top;\n",
       "    }\n",
       "\n",
       "    .dataframe thead th {\n",
       "        text-align: right;\n",
       "    }\n",
       "</style>\n",
       "<table border=\"1\" class=\"dataframe\">\n",
       "  <thead>\n",
       "    <tr style=\"text-align: right;\">\n",
       "      <th></th>\n",
       "      <th>Predicted Outcome</th>\n",
       "      <th>prob_0</th>\n",
       "      <th>prob_1</th>\n",
       "      <th>DerogCnt</th>\n",
       "      <th>CollectCnt</th>\n",
       "      <th>BanruptcyInd</th>\n",
       "      <th>InqCnt06</th>\n",
       "      <th>InqTimeLast</th>\n",
       "      <th>InqFinanceCnt24</th>\n",
       "      <th>TLTimeFirst</th>\n",
       "      <th>...</th>\n",
       "      <th>TL50UtilCnt</th>\n",
       "      <th>TLBalHCPct</th>\n",
       "      <th>TLSatPct</th>\n",
       "      <th>TLDel3060Cnt24</th>\n",
       "      <th>TLDel90Cnt24</th>\n",
       "      <th>TLDel60CntAll</th>\n",
       "      <th>TLOpenPct</th>\n",
       "      <th>TLBadDerogCnt</th>\n",
       "      <th>TLDel60Cnt24</th>\n",
       "      <th>TLOpen24Pct</th>\n",
       "    </tr>\n",
       "  </thead>\n",
       "  <tbody>\n",
       "    <tr>\n",
       "      <th>0</th>\n",
       "      <td>1</td>\n",
       "      <td>0.08</td>\n",
       "      <td>0.92</td>\n",
       "      <td>0.590166</td>\n",
       "      <td>0.562700</td>\n",
       "      <td>-0.425561</td>\n",
       "      <td>-0.878069</td>\n",
       "      <td>1.713059</td>\n",
       "      <td>-0.786738</td>\n",
       "      <td>-0.861443</td>\n",
       "      <td>...</td>\n",
       "      <td>-0.666667</td>\n",
       "      <td>0.811837</td>\n",
       "      <td>-1.473889</td>\n",
       "      <td>1.092200</td>\n",
       "      <td>0.740200</td>\n",
       "      <td>0.411803</td>\n",
       "      <td>-1.178579</td>\n",
       "      <td>0.689685</td>\n",
       "      <td>1.062752</td>\n",
       "      <td>0.875076</td>\n",
       "    </tr>\n",
       "    <tr>\n",
       "      <th>1</th>\n",
       "      <td>1</td>\n",
       "      <td>0.13</td>\n",
       "      <td>0.87</td>\n",
       "      <td>0.970000</td>\n",
       "      <td>0.562700</td>\n",
       "      <td>2.349838</td>\n",
       "      <td>-0.033095</td>\n",
       "      <td>-0.037628</td>\n",
       "      <td>-0.343037</td>\n",
       "      <td>0.546435</td>\n",
       "      <td>...</td>\n",
       "      <td>-0.666667</td>\n",
       "      <td>0.110051</td>\n",
       "      <td>-0.773378</td>\n",
       "      <td>-0.624421</td>\n",
       "      <td>0.740200</td>\n",
       "      <td>0.698691</td>\n",
       "      <td>-1.418722</td>\n",
       "      <td>0.689685</td>\n",
       "      <td>0.510793</td>\n",
       "      <td>-0.475915</td>\n",
       "    </tr>\n",
       "    <tr>\n",
       "      <th>2</th>\n",
       "      <td>0</td>\n",
       "      <td>0.89</td>\n",
       "      <td>0.11</td>\n",
       "      <td>-0.549334</td>\n",
       "      <td>-0.432495</td>\n",
       "      <td>-0.425561</td>\n",
       "      <td>2.220171</td>\n",
       "      <td>-0.475300</td>\n",
       "      <td>2.097322</td>\n",
       "      <td>-0.195119</td>\n",
       "      <td>...</td>\n",
       "      <td>0.306783</td>\n",
       "      <td>0.709064</td>\n",
       "      <td>0.246273</td>\n",
       "      <td>0.233890</td>\n",
       "      <td>-0.507328</td>\n",
       "      <td>-0.735747</td>\n",
       "      <td>-1.360607</td>\n",
       "      <td>-0.613656</td>\n",
       "      <td>-0.593127</td>\n",
       "      <td>2.611890</td>\n",
       "    </tr>\n",
       "    <tr>\n",
       "      <th>3</th>\n",
       "      <td>1</td>\n",
       "      <td>0.16</td>\n",
       "      <td>0.84</td>\n",
       "      <td>-0.169501</td>\n",
       "      <td>0.065102</td>\n",
       "      <td>-0.425561</td>\n",
       "      <td>-0.314753</td>\n",
       "      <td>-0.475300</td>\n",
       "      <td>0.100665</td>\n",
       "      <td>0.385228</td>\n",
       "      <td>...</td>\n",
       "      <td>-0.017701</td>\n",
       "      <td>-2.430781</td>\n",
       "      <td>-1.123633</td>\n",
       "      <td>-0.624421</td>\n",
       "      <td>-0.507328</td>\n",
       "      <td>0.124916</td>\n",
       "      <td>-1.778937</td>\n",
       "      <td>-0.179209</td>\n",
       "      <td>-0.593127</td>\n",
       "      <td>0.875076</td>\n",
       "    </tr>\n",
       "    <tr>\n",
       "      <th>4</th>\n",
       "      <td>1</td>\n",
       "      <td>0.06</td>\n",
       "      <td>0.94</td>\n",
       "      <td>-0.169501</td>\n",
       "      <td>0.065102</td>\n",
       "      <td>-0.425561</td>\n",
       "      <td>0.248563</td>\n",
       "      <td>-0.475300</td>\n",
       "      <td>0.322516</td>\n",
       "      <td>-0.195119</td>\n",
       "      <td>...</td>\n",
       "      <td>-0.666667</td>\n",
       "      <td>0.904483</td>\n",
       "      <td>-1.123633</td>\n",
       "      <td>1.092200</td>\n",
       "      <td>0.116436</td>\n",
       "      <td>-0.161972</td>\n",
       "      <td>1.222852</td>\n",
       "      <td>-0.179209</td>\n",
       "      <td>0.510793</td>\n",
       "      <td>-0.475915</td>\n",
       "    </tr>\n",
       "    <tr>\n",
       "      <th>5</th>\n",
       "      <td>1</td>\n",
       "      <td>0.26</td>\n",
       "      <td>0.74</td>\n",
       "      <td>-0.169501</td>\n",
       "      <td>0.065102</td>\n",
       "      <td>2.349838</td>\n",
       "      <td>-0.314753</td>\n",
       "      <td>-0.256464</td>\n",
       "      <td>-0.786738</td>\n",
       "      <td>-0.496040</td>\n",
       "      <td>...</td>\n",
       "      <td>-0.017701</td>\n",
       "      <td>1.424352</td>\n",
       "      <td>-0.072447</td>\n",
       "      <td>-0.624421</td>\n",
       "      <td>-0.507328</td>\n",
       "      <td>-0.161972</td>\n",
       "      <td>0.622495</td>\n",
       "      <td>-0.613656</td>\n",
       "      <td>-0.593127</td>\n",
       "      <td>0.875076</td>\n",
       "    </tr>\n",
       "    <tr>\n",
       "      <th>6</th>\n",
       "      <td>1</td>\n",
       "      <td>0.15</td>\n",
       "      <td>0.85</td>\n",
       "      <td>-0.549334</td>\n",
       "      <td>-0.432495</td>\n",
       "      <td>-0.425561</td>\n",
       "      <td>-0.596411</td>\n",
       "      <td>0.618879</td>\n",
       "      <td>0.100665</td>\n",
       "      <td>-0.732477</td>\n",
       "      <td>...</td>\n",
       "      <td>2.253682</td>\n",
       "      <td>1.009883</td>\n",
       "      <td>-0.346596</td>\n",
       "      <td>1.950511</td>\n",
       "      <td>1.987728</td>\n",
       "      <td>0.411803</td>\n",
       "      <td>0.544208</td>\n",
       "      <td>1.124132</td>\n",
       "      <td>1.614712</td>\n",
       "      <td>-1.151310</td>\n",
       "    </tr>\n",
       "    <tr>\n",
       "      <th>7</th>\n",
       "      <td>1</td>\n",
       "      <td>0.13</td>\n",
       "      <td>0.87</td>\n",
       "      <td>5.148169</td>\n",
       "      <td>4.045884</td>\n",
       "      <td>-0.425561</td>\n",
       "      <td>-0.033095</td>\n",
       "      <td>-0.475300</td>\n",
       "      <td>-0.121186</td>\n",
       "      <td>-1.678228</td>\n",
       "      <td>...</td>\n",
       "      <td>-0.991150</td>\n",
       "      <td>0.569907</td>\n",
       "      <td>-2.174820</td>\n",
       "      <td>-0.624421</td>\n",
       "      <td>-0.507328</td>\n",
       "      <td>-0.735747</td>\n",
       "      <td>2.423568</td>\n",
       "      <td>4.599707</td>\n",
       "      <td>-0.593127</td>\n",
       "      <td>0.875076</td>\n",
       "    </tr>\n",
       "    <tr>\n",
       "      <th>8</th>\n",
       "      <td>1</td>\n",
       "      <td>0.12</td>\n",
       "      <td>0.88</td>\n",
       "      <td>-0.549334</td>\n",
       "      <td>-0.432495</td>\n",
       "      <td>-0.425561</td>\n",
       "      <td>-0.878069</td>\n",
       "      <td>-0.118679</td>\n",
       "      <td>-0.786738</td>\n",
       "      <td>-0.646500</td>\n",
       "      <td>...</td>\n",
       "      <td>-0.991150</td>\n",
       "      <td>0.369236</td>\n",
       "      <td>-0.372666</td>\n",
       "      <td>-0.624421</td>\n",
       "      <td>0.116436</td>\n",
       "      <td>-0.161972</td>\n",
       "      <td>-0.320788</td>\n",
       "      <td>-0.179209</td>\n",
       "      <td>-0.041167</td>\n",
       "      <td>-1.151310</td>\n",
       "    </tr>\n",
       "    <tr>\n",
       "      <th>9</th>\n",
       "      <td>1</td>\n",
       "      <td>0.28</td>\n",
       "      <td>0.72</td>\n",
       "      <td>-0.549334</td>\n",
       "      <td>-0.432495</td>\n",
       "      <td>-0.425561</td>\n",
       "      <td>-0.596411</td>\n",
       "      <td>0.400043</td>\n",
       "      <td>-0.564888</td>\n",
       "      <td>1.975808</td>\n",
       "      <td>...</td>\n",
       "      <td>0.306783</td>\n",
       "      <td>-1.098476</td>\n",
       "      <td>0.574243</td>\n",
       "      <td>-0.624421</td>\n",
       "      <td>0.116436</td>\n",
       "      <td>-0.448860</td>\n",
       "      <td>1.130638</td>\n",
       "      <td>-0.179209</td>\n",
       "      <td>-0.041167</td>\n",
       "      <td>-0.084823</td>\n",
       "    </tr>\n",
       "  </tbody>\n",
       "</table>\n",
       "<p>10 rows × 31 columns</p>\n",
       "</div>"
      ],
      "text/plain": [
       "   Predicted Outcome  prob_0  prob_1  DerogCnt  CollectCnt  BanruptcyInd  \\\n",
       "0                  1    0.08    0.92  0.590166    0.562700     -0.425561   \n",
       "1                  1    0.13    0.87  0.970000    0.562700      2.349838   \n",
       "2                  0    0.89    0.11 -0.549334   -0.432495     -0.425561   \n",
       "3                  1    0.16    0.84 -0.169501    0.065102     -0.425561   \n",
       "4                  1    0.06    0.94 -0.169501    0.065102     -0.425561   \n",
       "5                  1    0.26    0.74 -0.169501    0.065102      2.349838   \n",
       "6                  1    0.15    0.85 -0.549334   -0.432495     -0.425561   \n",
       "7                  1    0.13    0.87  5.148169    4.045884     -0.425561   \n",
       "8                  1    0.12    0.88 -0.549334   -0.432495     -0.425561   \n",
       "9                  1    0.28    0.72 -0.549334   -0.432495     -0.425561   \n",
       "\n",
       "   InqCnt06  InqTimeLast  InqFinanceCnt24  TLTimeFirst  ...  TL50UtilCnt  \\\n",
       "0 -0.878069     1.713059        -0.786738    -0.861443  ...    -0.666667   \n",
       "1 -0.033095    -0.037628        -0.343037     0.546435  ...    -0.666667   \n",
       "2  2.220171    -0.475300         2.097322    -0.195119  ...     0.306783   \n",
       "3 -0.314753    -0.475300         0.100665     0.385228  ...    -0.017701   \n",
       "4  0.248563    -0.475300         0.322516    -0.195119  ...    -0.666667   \n",
       "5 -0.314753    -0.256464        -0.786738    -0.496040  ...    -0.017701   \n",
       "6 -0.596411     0.618879         0.100665    -0.732477  ...     2.253682   \n",
       "7 -0.033095    -0.475300        -0.121186    -1.678228  ...    -0.991150   \n",
       "8 -0.878069    -0.118679        -0.786738    -0.646500  ...    -0.991150   \n",
       "9 -0.596411     0.400043        -0.564888     1.975808  ...     0.306783   \n",
       "\n",
       "   TLBalHCPct  TLSatPct  TLDel3060Cnt24  TLDel90Cnt24  TLDel60CntAll  \\\n",
       "0    0.811837 -1.473889        1.092200      0.740200       0.411803   \n",
       "1    0.110051 -0.773378       -0.624421      0.740200       0.698691   \n",
       "2    0.709064  0.246273        0.233890     -0.507328      -0.735747   \n",
       "3   -2.430781 -1.123633       -0.624421     -0.507328       0.124916   \n",
       "4    0.904483 -1.123633        1.092200      0.116436      -0.161972   \n",
       "5    1.424352 -0.072447       -0.624421     -0.507328      -0.161972   \n",
       "6    1.009883 -0.346596        1.950511      1.987728       0.411803   \n",
       "7    0.569907 -2.174820       -0.624421     -0.507328      -0.735747   \n",
       "8    0.369236 -0.372666       -0.624421      0.116436      -0.161972   \n",
       "9   -1.098476  0.574243       -0.624421      0.116436      -0.448860   \n",
       "\n",
       "   TLOpenPct  TLBadDerogCnt  TLDel60Cnt24  TLOpen24Pct  \n",
       "0  -1.178579       0.689685      1.062752     0.875076  \n",
       "1  -1.418722       0.689685      0.510793    -0.475915  \n",
       "2  -1.360607      -0.613656     -0.593127     2.611890  \n",
       "3  -1.778937      -0.179209     -0.593127     0.875076  \n",
       "4   1.222852      -0.179209      0.510793    -0.475915  \n",
       "5   0.622495      -0.613656     -0.593127     0.875076  \n",
       "6   0.544208       1.124132      1.614712    -1.151310  \n",
       "7   2.423568       4.599707     -0.593127     0.875076  \n",
       "8  -0.320788      -0.179209     -0.041167    -1.151310  \n",
       "9   1.130638      -0.179209     -0.041167    -0.084823  \n",
       "\n",
       "[10 rows x 31 columns]"
      ]
     },
     "execution_count": 14,
     "metadata": {},
     "output_type": "execute_result"
    }
   ],
   "source": [
    "dfx.head(10)"
   ]
  }
 ],
 "metadata": {
  "colab": {
   "authorship_tag": "ABX9TyMb+gcsAkHMniJYlPat7LOY",
   "collapsed_sections": [],
   "mount_file_id": "1pd39RJk0kcIKm3WrejNtXoDiW9IWjOfD",
   "name": "f3_NewApplications_CreditScore_Predictions.ipynb",
   "provenance": [
    {
     "file_id": "1pd39RJk0kcIKm3WrejNtXoDiW9IWjOfD",
     "timestamp": 1612685590437
    }
   ],
   "toc_visible": true
  },
  "kernelspec": {
   "display_name": "Python 3 (ipykernel)",
   "language": "python",
   "name": "python3"
  },
  "language_info": {
   "codemirror_mode": {
    "name": "ipython",
    "version": 3
   },
   "file_extension": ".py",
   "mimetype": "text/x-python",
   "name": "python",
   "nbconvert_exporter": "python",
   "pygments_lexer": "ipython3",
   "version": "3.11.4"
  }
 },
 "nbformat": 4,
 "nbformat_minor": 4
}
